{
 "cells": [
  {
   "cell_type": "code",
   "execution_count": null,
   "metadata": {},
   "outputs": [],
   "source": [
    "# function to find d1 in the Black Scholes Equation\n",
    "def findd1(S, K, sigma, r, delta, T):\n",
    "    return (1/(sigma*np.sqrt(T)))*(np.log(S/K) + (r - delta + 0.5*sigma**2)*T)\n",
    "    \n",
    "# function to find d2 in the Black Scholes Equation\n",
    "def findd2(S, K, sigma, r, delta, T):\n",
    "    return (1/(sigma*np.sqrt(T)))*(np.log(S/K) + (r - delta + 0.5*sigma**2)*T) - (sigma*np.sqrt(T))\n",
    "\n",
    "# function to find the price of a call using Black Scholes pricing\n",
    "def callprice(S, K, sigma, r, delta, T, d1, d2):\n",
    "    return (S*np.exp(-delta * T)*norm.cdf(d1)) - (K*np.exp(-r * T)*norm.cdf(d2))\n",
    "    \n",
    "# function to find the price of a put using Black Scholes pricing\n",
    "def putprice(S, K, sigma, r, delta, T, d1, d2):\n",
    "    return (K*np.exp(-r * T)*norm.cdf(-d2)) - (S*np.exp(-delta * T)*norm.cdf(-d1))\n",
    "    \n",
    "# function to find the Delta greek\n",
    "def delta(S, T, sigma, delta, d1):\n",
    "    return np.exp(-delta*T)*norm.cdf(d1)"
   ]
  }
 ],
 "metadata": {
  "kernelspec": {
   "display_name": "Python 3",
   "language": "python",
   "name": "python3"
  },
  "language_info": {
   "codemirror_mode": {
    "name": "ipython",
    "version": 3
   },
   "file_extension": ".py",
   "mimetype": "text/x-python",
   "name": "python",
   "nbconvert_exporter": "python",
   "pygments_lexer": "ipython3",
   "version": "3.7.3"
  }
 },
 "nbformat": 4,
 "nbformat_minor": 2
}
